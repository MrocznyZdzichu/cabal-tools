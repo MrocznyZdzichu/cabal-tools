{
 "cells": [
  {
   "cell_type": "code",
   "execution_count": null,
   "id": "f87287e2",
   "metadata": {},
   "outputs": [],
   "source": [
    "%load_ext autoreload\n",
    "%autoreload 2"
   ]
  },
  {
   "cell_type": "code",
   "execution_count": null,
   "id": "6c1b1ced",
   "metadata": {},
   "outputs": [],
   "source": [
    "import CabalTools\n",
    "main = CabalTools.CabalTools(modules=['CollectionManager'])"
   ]
  },
  {
   "cell_type": "code",
   "execution_count": null,
   "id": "82e5c144",
   "metadata": {},
   "outputs": [],
   "source": [
    "main.backup_collection_files()"
   ]
  },
  {
   "cell_type": "code",
   "execution_count": null,
   "id": "9b75df04",
   "metadata": {},
   "outputs": [],
   "source": [
    "main.CollectionManager.preview_collection_data(filter_key='ColleName', filter_val='Lake in Dusk', filter_operator='like')"
   ]
  },
  {
   "cell_type": "markdown",
   "id": "85e8f52a",
   "metadata": {},
   "source": [
    "### Delete current missions"
   ]
  },
  {
   "cell_type": "code",
   "execution_count": null,
   "id": "fbd2a005",
   "metadata": {},
   "outputs": [],
   "source": [
    "for it in range(0, 3):\n",
    "    main.CollectionManager.delete_mission(1, 35, 1, save_files=False, do_reinit=True, rebuild_indexes=True)\n",
    "for it in range(0, 4):\n",
    "    main.CollectionManager.delete_mission(1, 1, 1, save_files=False, do_reinit=True, rebuild_indexes=True)"
   ]
  },
  {
   "cell_type": "code",
   "execution_count": null,
   "id": "3d69275d",
   "metadata": {},
   "outputs": [],
   "source": [
    "main.CollectionManager.preview_collection_data(filter_key='ColleName', filter_val='Lake in Dusk', filter_operator='like')"
   ]
  },
  {
   "cell_type": "markdown",
   "id": "39f59e2b",
   "metadata": {},
   "source": [
    "### Add the new ones"
   ]
  },
  {
   "cell_type": "code",
   "execution_count": null,
   "id": "c4fd587c",
   "metadata": {},
   "outputs": [],
   "source": [
    "main.CollectionManager.preview_collection_data(section_name='Mission', filter_key='ItemName', filter_val='Safeguard', filter_operator='like')"
   ]
  },
  {
   "cell_type": "code",
   "execution_count": null,
   "id": "e56bfa17",
   "metadata": {},
   "outputs": [],
   "source": [
    "new_missions = [\n",
    "    {#LiD I - stit weapons\n",
    "        'c_type'       : 1,\n",
    "        'c_id'         : 35,\n",
    "        'reward_type'  : 1,\n",
    "        'reward_id'    : 5,\n",
    "        'c_reward_id'  : 95,\n",
    "        'slots_config' : [\n",
    "            {'m_item_type':\t2, 'm_item_id': 6,\t'm_item_need': 1}, # weapon +5\n",
    "            {'m_item_type':\t4, 'm_item_id': 60,\t'm_item_need': 20} # astral core x 20\n",
    "        ]},\n",
    "    {#LiD I - misc\n",
    "        'c_type'       : 1,\n",
    "        'c_id'         : 35,\n",
    "        'reward_type'  : 1,\n",
    "        'reward_id'    : 5,\n",
    "        'c_reward_id'  : 95,\n",
    "        'slots_config' : [\n",
    "            {'m_item_type':\t1, 'm_item_id': 6,\t'm_item_need': 10}, # ucm\n",
    "            {'m_item_type':\t1, 'm_item_id': 7,\t'm_item_need': 1}, # fcm\n",
    "            {'m_item_type':\t1, 'm_item_id': 260,'m_item_need': 1}, # sem\n",
    "            {'m_item_type':\t1, 'm_item_id': 263,'m_item_need': 1} # sgm\n",
    "        ]},\n",
    "    {#LiD II - stit weapons\n",
    "        'c_type'       : 1,\n",
    "        'c_id'         : 1,\n",
    "        'reward_type'  : 1,\n",
    "        'reward_id'    : 25,\n",
    "        'c_reward_id'  : 1,\n",
    "        'slots_config' : [\n",
    "            {'m_item_type':\t2, 'm_item_id': 6,\t'm_item_need': 10}, # 10 stit +5 weapons\n",
    "            {'m_item_type':\t4, 'm_item_id': 60,\t'm_item_need': 200} # 200 astral cores\n",
    "        ]},\n",
    "    {#LiD II - misc\n",
    "        'c_type'       : 1,\n",
    "        'c_id'         : 1,\n",
    "        'reward_type'  : 1,\n",
    "        'reward_id'    : 25,\n",
    "        'c_reward_id'  : 1,\n",
    "        'slots_config' : [\n",
    "            {'m_item_type':\t1, 'm_item_id': 6,\t'm_item_need': 100}, # ucm\n",
    "            {'m_item_type':\t1, 'm_item_id': 7,\t'm_item_need': 30}, # fcm\n",
    "            {'m_item_type':\t1, 'm_item_id': 260,'m_item_need': 5}, # sem\n",
    "            {'m_item_type':\t1, 'm_item_id': 263,'m_item_need': 10} # sgm\n",
    "        ]}\n",
    "]\n",
    "for mission in new_missions:\n",
    "    main.CollectionManager.add_mission(**mission, do_reinit=True, save_files=False, rebuild_indexes=True)"
   ]
  },
  {
   "cell_type": "code",
   "execution_count": null,
   "id": "9afd5df0",
   "metadata": {},
   "outputs": [],
   "source": [
    "main.CollectionManager.preview_collection_data(filter_key='ColleName', filter_val='Lake in Dusk', filter_operator='like')"
   ]
  },
  {
   "cell_type": "markdown",
   "id": "cc852768",
   "metadata": {},
   "source": [
    "### Change reward stat"
   ]
  },
  {
   "cell_type": "code",
   "execution_count": null,
   "id": "ff9f8f12",
   "metadata": {},
   "outputs": [],
   "source": [
    "rewards = [\n",
    "    {#Lid I\n",
    "        'c_reward_id'    : 95,\n",
    "        'reward_ability' : 113,\n",
    "        'value_type'     : 1,\n",
    "        'values'         : (6, 10, 20)\n",
    "    },\n",
    "    {#Lid II\n",
    "        'c_reward_id'    : 1,\n",
    "        'reward_ability' : 113,\n",
    "        'value_type'     : 1,\n",
    "        'values'         : (30, 50, 100)\n",
    "    }\n",
    "]\n",
    "for reward in rewards:\n",
    "    main.CollectionManager.change_reward(**reward, rebuild_indexes=True, save_files=True, do_reinit=True)"
   ]
  },
  {
   "cell_type": "code",
   "execution_count": null,
   "id": "1a7b7a42",
   "metadata": {},
   "outputs": [],
   "source": [
    "main.CollectionManager.preview_collection_data(filter_key='ColleName', filter_val='Lake in Dusk', filter_operator='like')"
   ]
  }
 ],
 "metadata": {
  "kernelspec": {
   "display_name": ".venv",
   "language": "python",
   "name": "python3"
  },
  "language_info": {
   "codemirror_mode": {
    "name": "ipython",
    "version": 3
   },
   "file_extension": ".py",
   "mimetype": "text/x-python",
   "name": "python",
   "nbconvert_exporter": "python",
   "pygments_lexer": "ipython3",
   "version": "3.12.6"
  }
 },
 "nbformat": 4,
 "nbformat_minor": 5
}
