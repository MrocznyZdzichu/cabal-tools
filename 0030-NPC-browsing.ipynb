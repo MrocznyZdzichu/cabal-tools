{
 "cells": [
  {
   "cell_type": "code",
   "execution_count": null,
   "id": "bd229225",
   "metadata": {},
   "outputs": [],
   "source": [
    "%load_ext autoreload\n",
    "%autoreload 2"
   ]
  },
  {
   "cell_type": "code",
   "execution_count": null,
   "id": "9dc72fe4",
   "metadata": {},
   "outputs": [],
   "source": [
    "from CabalTools import CabalTools\n",
    "\n",
    "main = CabalTools()"
   ]
  },
  {
   "cell_type": "code",
   "execution_count": null,
   "id": "736df23e",
   "metadata": {},
   "outputs": [],
   "source": [
    "sink = main.ShopsManager.preview_NPCs(\n",
    "    columns_to_show = None,\n",
    "    filter_key      = 'World_ID',\n",
    "    filter_val      = 2,\n",
    "    filter_operator = '=='\n",
    ")"
   ]
  },
  {
   "cell_type": "code",
   "execution_count": null,
   "id": "7540b990",
   "metadata": {},
   "outputs": [],
   "source": [
    "sink = main.ShopsManager.preview_shops(\n",
    "    section         = 'Shop', \n",
    "    columns_to_show = ['Pool_ID', 'TabID', 'SlotID', 'ItemKind', 'ItemOpt', 'Item_Name', 'NPC_Name'], \n",
    "    filter_key      = 'NPC_Name', \n",
    "    filter_val      = 'Simon', \n",
    "    filter_operator = 'like'\n",
    ")"
   ]
  },
  {
   "cell_type": "code",
   "execution_count": null,
   "id": "dbe1f692",
   "metadata": {},
   "outputs": [],
   "source": [
    "sink = main.ShopsManager.preview_shops(\n",
    "    section         = 'Shop', \n",
    "    columns_to_show = ['Pool_ID', 'SlotID', 'ItemKind', 'ItemOpt', 'Item_Name', 'NPC_Name'], \n",
    "    filter_key      = 'NPC_Name', \n",
    "    filter_val      = 'Unon', \n",
    "    filter_operator = 'like'\n",
    ")"
   ]
  }
 ],
 "metadata": {
  "kernelspec": {
   "display_name": ".venv",
   "language": "python",
   "name": "python3"
  },
  "language_info": {
   "codemirror_mode": {
    "name": "ipython",
    "version": 3
   },
   "file_extension": ".py",
   "mimetype": "text/x-python",
   "name": "python",
   "nbconvert_exporter": "python",
   "pygments_lexer": "ipython3",
   "version": "3.12.6"
  }
 },
 "nbformat": 4,
 "nbformat_minor": 5
}
