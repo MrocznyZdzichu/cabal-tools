{
 "cells": [
  {
   "cell_type": "code",
   "execution_count": null,
   "id": "530fafb3",
   "metadata": {},
   "outputs": [],
   "source": [
    "%load_ext autoreload\n",
    "%autoreload 2"
   ]
  },
  {
   "cell_type": "code",
   "execution_count": null,
   "id": "7bc27419",
   "metadata": {},
   "outputs": [],
   "source": [
    "import CabalTools\n",
    "main = CabalTools.CabalTools()"
   ]
  },
  {
   "cell_type": "code",
   "execution_count": 21,
   "id": "eff9cc6f",
   "metadata": {},
   "outputs": [],
   "source": [
    "main.backup_world_drops()"
   ]
  },
  {
   "cell_type": "code",
   "execution_count": null,
   "id": "e6a51ad1",
   "metadata": {},
   "outputs": [],
   "source": [
    "main.DropListManager._scp_data.list_sections()"
   ]
  },
  {
   "cell_type": "code",
   "execution_count": null,
   "id": "ab76a2bf",
   "metadata": {},
   "outputs": [],
   "source": [
    "sink = main.DropListManager.preview_drop_lists(\n",
    "    section         = \"World_CommDrop\",\n",
    "    filter_key      = \"WorldName\",\n",
    "    filter_val      = \"Lake in Dusk\",\n",
    "    filter_operator = \"==\",\n",
    ")\n",
    "drops_to_delete = list(sink['RowIndex'])"
   ]
  },
  {
   "cell_type": "code",
   "execution_count": null,
   "id": "d77cf700",
   "metadata": {},
   "outputs": [],
   "source": [
    "for drop_id in drops_to_delete:\n",
    "    main.DropListManager.remove_drop_from_list('Common', drop_id, save_files=False)\n",
    "\n",
    "main.DropListManager.rebuild_scp_index('World_CommDrop')\n",
    "main.DropListManager.reinit()\n"
   ]
  },
  {
   "cell_type": "code",
   "execution_count": null,
   "id": "af21194d",
   "metadata": {},
   "outputs": [],
   "source": [
    "sink = main.DropListManager.preview_drop_lists(section='World_CommDrop', filter_key='WorldName', filter_val='Lake in Dusk', filter_operator='==')"
   ]
  },
  {
   "cell_type": "code",
   "execution_count": null,
   "id": "6ce14d65",
   "metadata": {},
   "outputs": [],
   "source": [
    "ucm_set_3  = CabalTools.CommonDrop(WorldIdx = 156, ItemKind = 33556513, ItemOpt = 3,  DropRate = 3)\n",
    "ucm_set_5  = CabalTools.CommonDrop(WorldIdx = 156, ItemKind = 33556513, ItemOpt = 5,  DropRate = 2)\n",
    "ucm_set_10 = CabalTools.CommonDrop(WorldIdx = 156, ItemKind = 33556513, ItemOpt = 10, DropRate = 1)\n",
    "fcm        = CabalTools.CommonDrop(WorldIdx = 156, ItemKind = 583,      ItemOpt = 0,  DropRate = 10)\n",
    "oxp_pot    = CabalTools.CommonDrop(WorldIdx = 156, ItemKind = 33556608, ItemOpt = 2000000000,  DropRate = 15)\n",
    "sgm        = CabalTools.CommonDrop(WorldIdx = 156, ItemKind = 2379, ItemOpt = 1,  DropRate = 1)\n",
    "\n",
    "drop_list = CabalTools.DropList([ucm_set_3, ucm_set_5, ucm_set_10, fcm, oxp_pot, sgm])\n",
    "drop_list.normalize_droprates(normalize_to=60)"
   ]
  },
  {
   "cell_type": "code",
   "execution_count": null,
   "id": "33884ba1",
   "metadata": {},
   "outputs": [],
   "source": [
    "for item in drop_list:\n",
    "    main.DropListManager.add_drop('Common', item)\n",
    "main.DropListManager.rebuild_scp_index('World_CommDrop')\n",
    "main.DropListManager.reinit()\n",
    "main.DropListManager.save_files()"
   ]
  },
  {
   "cell_type": "code",
   "execution_count": null,
   "id": "9e59e6f0",
   "metadata": {},
   "outputs": [],
   "source": [
    "sink = main.DropListManager.preview_drop_lists(section='World_CommDrop', filter_key='WorldName', filter_val='Lake in Dusk', filter_operator='==')"
   ]
  },
  {
   "cell_type": "code",
   "execution_count": null,
   "id": "3ec09d6a",
   "metadata": {},
   "outputs": [],
   "source": [
    "sink = main.DropListManager.preview_drop_lists(section='World_MobsDrop', filter_key='WorldName', filter_val='Lake in Dusk', filter_operator='==')"
   ]
  },
  {
   "cell_type": "code",
   "execution_count": null,
   "id": "a4b30a94",
   "metadata": {},
   "outputs": [],
   "source": [
    "drops_to_delete = list(sink['RowIndex'])\n",
    "for drop_id in drops_to_delete:\n",
    "    main.DropListManager.remove_drop_from_list('Mob', drop_id, save_files=False)\n",
    "\n",
    "main.DropListManager.rebuild_scp_index('World_CommDrop')\n",
    "main.DropListManager.reinit()"
   ]
  },
  {
   "cell_type": "code",
   "execution_count": null,
   "id": "8e780b26",
   "metadata": {},
   "outputs": [],
   "source": [
    "sink = main.DropListManager.preview_drop_lists(section='World_MobsDrop', filter_key='WorldName', filter_val='Lake in Dusk', filter_operator='==')"
   ]
  },
  {
   "cell_type": "code",
   "execution_count": null,
   "id": "7f7f8499",
   "metadata": {},
   "outputs": [],
   "source": [
    "WorldIdx  = 156\n",
    "Mobs_med  = [606, 589, 591, 597]\n",
    "Mobs_High = [128]\n",
    "\n",
    "weapons = (97, 82, 67, 52, 33554781, 22, 37)\n",
    "options = (536871124, 536871125, 536871135)\n",
    "items_med = []\n",
    "items_high = []\n",
    "\n",
    "specials = {\n",
    "    'weapon scroll med cr' :  {'ItemKind' : 2703, 'ItemOpt' : 1153, 'DropRate' : 2},\n",
    "    'weapon scroll med cd' :  {'ItemKind' : 2703, 'ItemOpt' : 1025, 'DropRate' : 2},\n",
    "    'weapon scroll med msa' : {'ItemKind' : 2703, 'ItemOpt' : 4097, 'DropRate' : 2},\n",
    "    'weapon scroll med ssa' : {'ItemKind' : 2703, 'ItemOpt' : 3969, 'DropRate' : 2},\n",
    "    'sem' :                   {'ItemKind' : 1425, 'ItemOpt' : 0,    'DropRate' : 1},\n",
    "    'pcm' :                   {'ItemKind' : 638,  'ItemOpt' : 0,    'DropRate' : 3},\n",
    "}\n",
    "\n",
    "for v in specials.values():\n",
    "    items_high.append(CabalTools.MobDrop(WorldIdx=WorldIdx, SpeciesIdx=128, **v))\n",
    "\n",
    "for m in Mobs_med:\n",
    "    for w in weapons:\n",
    "        for o in options:\n",
    "            items_med.append(CabalTools.MobDrop(WorldIdx=WorldIdx, SpeciesIdx=m, ItemKind=w, ItemOpt=o, DropRate=1.0))\n",
    "\n",
    "    for v in specials.values():\n",
    "        v['DropRate'] /= 5\n",
    "        items_med.append(CabalTools.MobDrop(WorldIdx=WorldIdx, SpeciesIdx=m, **v))\n",
    "\n",
    "drop_list_med  = CabalTools.DropList(items_med)\n",
    "drop_list_high = CabalTools.DropList(items_high)\n",
    "\n",
    "drop_list_med.normalize_droprates()\n",
    "drop_list_high.normalize_droprates()"
   ]
  },
  {
   "cell_type": "code",
   "execution_count": null,
   "id": "553083f7",
   "metadata": {},
   "outputs": [],
   "source": [
    "for drop in drop_list_med:\n",
    "    main.DropListManager.add_drop('Mob', drop)\n",
    "\n",
    "for drop in drop_list_high:\n",
    "    main.DropListManager.add_drop('Mob', drop)"
   ]
  },
  {
   "cell_type": "code",
   "execution_count": null,
   "id": "0f8aab17",
   "metadata": {},
   "outputs": [],
   "source": [
    "main.DropListManager.rebuild_scp_index('World_MobsDrop')\n",
    "main.DropListManager.reinit()"
   ]
  },
  {
   "cell_type": "code",
   "execution_count": null,
   "id": "cbd933fd",
   "metadata": {},
   "outputs": [],
   "source": [
    "sink = main.DropListManager.preview_drop_lists(section='World_MobsDrop', filter_key='WorldName', filter_val='Lake in Dusk', filter_operator='==')\n",
    "sink = main.DropListManager.preview_drop_lists(section='World_CommDrop', filter_key='WorldName', filter_val='Lake in Dusk', filter_operator='==')"
   ]
  },
  {
   "cell_type": "code",
   "execution_count": null,
   "id": "6eecbd86",
   "metadata": {},
   "outputs": [],
   "source": [
    "main.DropListManager.save_files()"
   ]
  }
 ],
 "metadata": {
  "kernelspec": {
   "display_name": ".venv",
   "language": "python",
   "name": "python3"
  },
  "language_info": {
   "codemirror_mode": {
    "name": "ipython",
    "version": 3
   },
   "file_extension": ".py",
   "mimetype": "text/x-python",
   "name": "python",
   "nbconvert_exporter": "python",
   "pygments_lexer": "ipython3",
   "version": "3.12.6"
  }
 },
 "nbformat": 4,
 "nbformat_minor": 5
}
