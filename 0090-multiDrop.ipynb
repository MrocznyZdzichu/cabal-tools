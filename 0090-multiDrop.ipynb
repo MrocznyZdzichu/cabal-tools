{
 "cells": [
  {
   "cell_type": "code",
   "execution_count": 1,
   "id": "4ef11a96",
   "metadata": {},
   "outputs": [],
   "source": [
    "%load_ext autoreload\n",
    "%autoreload 2"
   ]
  },
  {
   "cell_type": "code",
   "execution_count": 2,
   "id": "c0472ac3",
   "metadata": {},
   "outputs": [
    {
     "name": "stdout",
     "output_type": "stream",
     "text": [
      "Loading configuration ...\n",
      "Configuring data loaders ...\n",
      "\tInitializing skills data loader ... Done!\n",
      "\tInitializing shops data loader ... Done!\n",
      "\tInitializing items data loader ... Done!\n",
      "\tInitializing warp_points data loader ... Done!\n",
      "\tInitializing const_scp data loader ... Done!\n",
      "\tInitializing multiple_scp data loader ... Done!\n",
      "\tInitializing droplists data loader ... Done!\n",
      "\tInitializing mobs data loader ... Done!\n",
      "\tInitializing worlds_msg data loader ... Done!\n",
      "\tInitializing collection data loader ... Done!\n",
      "\tInitializing ovl data loader ... Done!\n",
      "Configuring managers ...\n",
      "\tInitializing ConstManager ... Done!\n"
     ]
    }
   ],
   "source": [
    "import CabalTools\n",
    "main = CabalTools.CabalTools(modules=['ConstManager'])"
   ]
  },
  {
   "cell_type": "code",
   "execution_count": 3,
   "id": "e408dea2",
   "metadata": {},
   "outputs": [],
   "source": [
    "main.backup('const')"
   ]
  },
  {
   "cell_type": "code",
   "execution_count": null,
   "id": "efb87503",
   "metadata": {},
   "outputs": [],
   "source": [
    "main.ConstManager.set_drops_count_per_kill(5, save_files=True)"
   ]
  }
 ],
 "metadata": {
  "kernelspec": {
   "display_name": ".venv",
   "language": "python",
   "name": "python3"
  },
  "language_info": {
   "codemirror_mode": {
    "name": "ipython",
    "version": 3
   },
   "file_extension": ".py",
   "mimetype": "text/x-python",
   "name": "python",
   "nbconvert_exporter": "python",
   "pygments_lexer": "ipython3",
   "version": "3.12.6"
  }
 },
 "nbformat": 4,
 "nbformat_minor": 5
}
