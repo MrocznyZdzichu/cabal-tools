{
 "cells": [
  {
   "cell_type": "code",
   "execution_count": null,
   "id": "4ef11a96",
   "metadata": {},
   "outputs": [],
   "source": [
    "%load_ext autoreload\n",
    "%autoreload 2"
   ]
  },
  {
   "cell_type": "code",
   "execution_count": null,
   "id": "c0472ac3",
   "metadata": {},
   "outputs": [],
   "source": [
    "import CabalTools\n",
    "main = CabalTools.CabalTools(modules=['ConstManager'])"
   ]
  },
  {
   "cell_type": "code",
   "execution_count": null,
   "id": "e408dea2",
   "metadata": {},
   "outputs": [],
   "source": [
    "main.backup('const')"
   ]
  },
  {
   "cell_type": "code",
   "execution_count": null,
   "id": "efb87503",
   "metadata": {},
   "outputs": [],
   "source": [
    "main.ConstManager.set_drops_count_per_kill(5, save_files=True)"
   ]
  }
 ],
 "metadata": {
  "kernelspec": {
   "display_name": ".venv",
   "language": "python",
   "name": "python3"
  },
  "language_info": {
   "codemirror_mode": {
    "name": "ipython",
    "version": 3
   },
   "file_extension": ".py",
   "mimetype": "text/x-python",
   "name": "python",
   "nbconvert_exporter": "python",
   "pygments_lexer": "ipython3",
   "version": "3.12.6"
  }
 },
 "nbformat": 4,
 "nbformat_minor": 5
}
