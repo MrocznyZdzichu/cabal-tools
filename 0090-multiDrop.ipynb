{
 "cells": [
  {
   "cell_type": "code",
   "execution_count": null,
   "id": "c0472ac3",
   "metadata": {},
   "outputs": [],
   "source": [
    "import CabalTools\n",
    "main = CabalTools.CabalTools()"
   ]
  },
  {
   "cell_type": "code",
   "execution_count": 3,
   "id": "e408dea2",
   "metadata": {},
   "outputs": [],
   "source": [
    "main.backup_const_files()"
   ]
  },
  {
   "cell_type": "code",
   "execution_count": null,
   "id": "efb87503",
   "metadata": {},
   "outputs": [],
   "source": [
    "sink = main.ConstManager.set_drops_count_per_kill(5, save_files=True, do_reinit=True)"
   ]
  }
 ],
 "metadata": {
  "kernelspec": {
   "display_name": ".venv",
   "language": "python",
   "name": "python3"
  },
  "language_info": {
   "codemirror_mode": {
    "name": "ipython",
    "version": 3
   },
   "file_extension": ".py",
   "mimetype": "text/x-python",
   "name": "python",
   "nbconvert_exporter": "python",
   "pygments_lexer": "ipython3",
   "version": "3.12.6"
  }
 },
 "nbformat": 4,
 "nbformat_minor": 5
}
