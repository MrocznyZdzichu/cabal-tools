{
 "cells": [
  {
   "cell_type": "code",
   "execution_count": null,
   "id": "8e1a4c2f",
   "metadata": {},
   "outputs": [],
   "source": [
    "%load_ext autoreload\n",
    "%autoreload 2"
   ]
  },
  {
   "cell_type": "code",
   "execution_count": null,
   "id": "0bf6b5ba",
   "metadata": {},
   "outputs": [],
   "source": [
    "import CabalTools\n",
    "main = CabalTools.CabalTools(modules=['StellarManager'])"
   ]
  },
  {
   "cell_type": "code",
   "execution_count": null,
   "id": "41cb9de5",
   "metadata": {},
   "outputs": [],
   "source": [
    "stellar_set_config = {\n",
    "    (1, 1) : {'Value1' : 5,  'Value2' : 20} , # Normal DMG Up / Defense\n",
    "    (1, 2) : {'Value1' : 10, 'Value2' : 60} , # Normal DMG Up / Defense\n",
    "    (1, 3) : {'Value1' : 20, 'Value2' : 100}, # Normal DMG Up / Defense\n",
    "    (1, 4) : {'Value1' : 30, 'Value2' : 250}, # Normal DMG Up / Defense\n",
    "    (1, 5) : {'Value1' : 50, 'Value2' : 400}, # Normal DMG Up / Defense\n",
    "    (2, 1) : {\"Force_Code1\" : 114, 'Value1' : 4,  'Value2' : 3,  }, # All Skill Amp / Resist Skill Amp \n",
    "    (2, 2) : {\"Force_Code1\" : 114, 'Value1' : 8,  'Value2' : 8,  }, # All Skill Amp / Resist Skill Amp\n",
    "    (2, 3) : {\"Force_Code1\" : 114, 'Value1' : 12, 'Value2' : 12, }, # All Skill Amp / Resist Skill Amp\n",
    "    (2, 4) : {\"Force_Code1\" : 114, 'Value1' : 20, 'Value2' : 20, }, # All Skill Amp / Resist Skill Amp\n",
    "    (2, 5) : {\"Force_Code1\" : 114, 'Value1' : 30, 'Value2' : 30, }, # All Skill Amp / Resist Skill Amp\n",
    "    (3, 1) : {'Value1' : 40,  'Value2' : 40} , # All Attack Up / DMG Reduction\n",
    "    (3, 2) : {'Value1' : 80,  'Value2' : 80} , # All Attack Up / DMG Reduction\n",
    "    (3, 3) : {'Value1' : 150, 'Value2' : 150}, # All Attack Up / DMG Reduction\n",
    "    (3, 4) : {'Value1' : 230, 'Value2' : 230}, # All Attack Up / DMG Reduction\n",
    "    (3, 5) : {'Value1' : 300, 'Value2' : 300}, # All Attack Up / DMG Reduction\n",
    "    (4, 1) : {\"Force_Code1\" : 80, 'Value1' : 10,  \"Value_Type1\" : 1, \"Force_Code2\" : 1, 'Value2' : 100, \"Value_Type2\" :  1}, # Penetration / HP\n",
    "    (4, 2) : {\"Force_Code1\" : 80, 'Value1' : 30,  \"Value_Type1\" : 1, \"Force_Code2\" : 1, 'Value2' : 200, \"Value_Type2\" :  1}, # Penetration / HP\n",
    "    (4, 3) : {\"Force_Code1\" : 80, 'Value1' : 50,  \"Value_Type1\" : 1, \"Force_Code2\" : 1, 'Value2' : 400, \"Value_Type2\" :  1}, # Penetration / HP\n",
    "    (4, 4) : {\"Force_Code1\" : 80, 'Value1' : 80,  \"Value_Type1\" : 1, \"Force_Code2\" : 1, 'Value2' : 600, \"Value_Type2\" :  1}, # Penetration / HP\n",
    "    (4, 5) : {\"Force_Code1\" : 80, 'Value1' : 120, \"Value_Type1\" : 1, \"Force_Code2\" : 1, 'Value2' : 1000, \"Value_Type2\" : 1}, # Penetration / HP\n",
    "    (5, 1) : {'Value1' : 10, 'Value2' : 30},  # CD / Ignore Penetration\n",
    "    (5, 2) : {'Value1' : 20, 'Value2' : 60},  # CD / Ignore Penetration\n",
    "    (5, 3) : {'Value1' : 30, 'Value2' : 100}, # CD / Ignore Penetration\n",
    "    (5, 4) : {'Value1' : 45, 'Value2' : 150}, # CD / Ignore Penetration\n",
    "    (5, 5) : {'Value1' : 60, 'Value2' : 200}, # CD / Ignore Penetration\n",
    "}\n",
    "for k, v in stellar_set_config.items():\n",
    "    main.StellarManager.modify_set_bonus(*k, **v, do_reinit=False, save_files=False)\n",
    "    "
   ]
  },
  {
   "cell_type": "code",
   "execution_count": null,
   "id": "ed4fe7c9",
   "metadata": {},
   "outputs": [],
   "source": [
    "main.StellarManager.reinit()\n",
    "sink = main.StellarManager.preview(section_name='Set_Ability')"
   ]
  },
  {
   "cell_type": "code",
   "execution_count": null,
   "id": "e2e22ef4",
   "metadata": {},
   "outputs": [],
   "source": [
    "main.StellarManager.save()\n",
    "main.backup('stellar')"
   ]
  }
 ],
 "metadata": {
  "kernelspec": {
   "display_name": ".venv",
   "language": "python",
   "name": "python3"
  },
  "language_info": {
   "codemirror_mode": {
    "name": "ipython",
    "version": 3
   },
   "file_extension": ".py",
   "mimetype": "text/x-python",
   "name": "python",
   "nbconvert_exporter": "python",
   "pygments_lexer": "ipython3",
   "version": "3.12.6"
  }
 },
 "nbformat": 4,
 "nbformat_minor": 5
}
