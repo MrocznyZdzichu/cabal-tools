{
 "cells": [
  {
   "cell_type": "code",
   "execution_count": null,
   "id": "0d66d99e",
   "metadata": {},
   "outputs": [],
   "source": [
    "from CabalTools import CabalTools\n",
    "\n",
    "main = CabalTools(modules=['ShopsManager'])\n",
    "main.backup('npc_shops')"
   ]
  },
  {
   "cell_type": "code",
   "execution_count": null,
   "id": "455786cc",
   "metadata": {},
   "outputs": [],
   "source": [
    "npc_name_mask = 'Peddler'\n",
    "sink = main.ShopsManager.preview_shops(\n",
    "    section='Shop', \n",
    "    columns_to_show=['Pool_ID', 'TabID', 'SlotID', 'ItemKind', 'Item_Name', 'AlzPrice', 'NPC_Name'], \n",
    "    filter_key='NPC_Name', \n",
    "    filter_val=npc_name_mask, \n",
    "    filter_operator='like'\n",
    ")"
   ]
  },
  {
   "cell_type": "markdown",
   "id": "78fc0b20",
   "metadata": {},
   "source": [
    "### Items to remove from the shop"
   ]
  },
  {
   "cell_type": "code",
   "execution_count": null,
   "id": "478b646f",
   "metadata": {},
   "outputs": [],
   "source": [
    "items_to_remove = {\n",
    "    13: {'pool_id_or_name': 'Peddler', 'TabID': 0, 'SlotID': 38},\n",
    "    37: {'pool_id_or_name': 'Peddler', 'TabID': 0, 'SlotID': 54},\n",
    "    41: {'pool_id_or_name': 'Peddler', 'TabID': 0, 'SlotID': 55}\n",
    "}\n",
    "sink = main.ShopsManager.batch_remove_item_from_shop(items_to_remove, do_reinit=True, save_files=False)"
   ]
  },
  {
   "cell_type": "code",
   "execution_count": null,
   "id": "0af800ca",
   "metadata": {},
   "outputs": [],
   "source": [
    "sink = main.ShopsManager.preview_shops(\n",
    "    section='Shop', \n",
    "    columns_to_show=['Pool_ID', 'TabID', 'SlotID', 'ItemKind', 'Item_Name', 'AlzPrice', 'NPC_Name'], \n",
    "    filter_key='NPC_Name', \n",
    "    filter_val=npc_name_mask, \n",
    "    filter_operator='like'\n",
    ")"
   ]
  },
  {
   "cell_type": "markdown",
   "id": "5a461e8f",
   "metadata": {},
   "source": [
    "### Add new items"
   ]
  },
  {
   "cell_type": "code",
   "execution_count": null,
   "id": "0cbdd754",
   "metadata": {},
   "outputs": [],
   "source": [
    "from CabalTools.NPCShopManagement.ShopItem import ShopItem\n",
    "\n",
    "items_to_add = {\n",
    "    38: ShopItem(ItemKind=6663, AlzPrice=8000000, ItemOpt=1424, DurationIdx=0, MinLevel=0, MaxLevel=0, GuildMinLevel=0, Reputation=-19, MaxReputation=20, OnlyPremium=0, OnlyWin=0, WExpPrice=0, APPrice=0, DPPrice=0, ItemPrice=0, ForcegemPrice=0, D_Limit=0, W_Limit=0),\n",
    "    54: ShopItem(ItemKind=33560913, AlzPrice=500000, ItemOpt=2190, DurationIdx=0, MinLevel=0, MaxLevel=0, GuildMinLevel=0, Reputation=-19, MaxReputation=20, OnlyPremium=0, OnlyWin=0, WExpPrice=0, APPrice=0, DPPrice=0, ItemPrice=0, ForcegemPrice=0, D_Limit=0, W_Limit=0),\n",
    "    55: ShopItem(ItemKind=33561108, AlzPrice=1000000, ItemOpt=2195, DurationIdx=0, MinLevel=0, MaxLevel=0, GuildMinLevel=0, Reputation=-19, MaxReputation=20, OnlyPremium=0, OnlyWin=0, WExpPrice=0, APPrice=0, DPPrice=0, ItemPrice=0, ForcegemPrice=0, D_Limit=0, W_Limit=0),\n",
    "    8: ShopItem(ItemKind=578, AlzPrice=1, ItemOpt=1108, DurationIdx=0, MinLevel=0, MaxLevel=0, GuildMinLevel=0, Reputation=-19, MaxReputation=20, OnlyPremium=0, OnlyWin=0, WExpPrice=0, APPrice=0, DPPrice=0, ItemPrice=0, ForcegemPrice=0, D_Limit=0, W_Limit=0),\n",
    "    9: ShopItem(ItemKind=496, AlzPrice=10, ItemOpt=1231, DurationIdx=0, MinLevel=0, MaxLevel=0, GuildMinLevel=0, Reputation=-19, MaxReputation=20, OnlyPremium=0, OnlyWin=0, WExpPrice=0, APPrice=0, DPPrice=0, ItemPrice=0, ForcegemPrice=0, D_Limit=0, W_Limit=0),\n",
    "    10: ShopItem(ItemKind=601, AlzPrice=100, ItemOpt=1215, DurationIdx=0, MinLevel=0, MaxLevel=0, GuildMinLevel=0, Reputation=-19, MaxReputation=20, OnlyPremium=0, OnlyWin=0, WExpPrice=0, APPrice=0, DPPrice=0, ItemPrice=0, ForcegemPrice=0, D_Limit=0, W_Limit=0),\n",
    "    11: ShopItem(ItemKind=663, AlzPrice=1000, ItemOpt=1292, DurationIdx=0, MinLevel=0, MaxLevel=0, GuildMinLevel=0, Reputation=-19, MaxReputation=20, OnlyPremium=0, OnlyWin=0, WExpPrice=0, APPrice=0, DPPrice=0, ItemPrice=0, ForcegemPrice=0, D_Limit=0, W_Limit=0),\n",
    "    15: ShopItem(ItemKind=33556525, AlzPrice=1, ItemOpt=100, DurationIdx=0, MinLevel=0, MaxLevel=0, GuildMinLevel=0, Reputation=-19, MaxReputation=20, OnlyPremium=0, OnlyWin=0, WExpPrice=0, APPrice=0, DPPrice=0, ItemPrice=0, ForcegemPrice=0, D_Limit=0, W_Limit=0)\n",
    "}\n",
    "sink = main.ShopsManager.batch_add_item_to_shop(npc_name_mask, items_to_add, shop_tab_id=0, save_files=True, do_reinit=True)"
   ]
  },
  {
   "cell_type": "code",
   "execution_count": null,
   "id": "a27a5b86",
   "metadata": {},
   "outputs": [],
   "source": [
    "sink = main.ShopsManager.preview_shops(\n",
    "    section='Shop', \n",
    "    columns_to_show=['Pool_ID', 'TabID', 'SlotID', 'ItemKind', 'Item_Name', 'AlzPrice', 'NPC_Name'], \n",
    "    filter_key='NPC_Name', \n",
    "    filter_val=npc_name_mask, \n",
    "    filter_operator='like'\n",
    ")"
   ]
  }
 ],
 "metadata": {
  "kernelspec": {
   "display_name": ".venv",
   "language": "python",
   "name": "python3"
  },
  "language_info": {
   "codemirror_mode": {
    "name": "ipython",
    "version": 3
   },
   "file_extension": ".py",
   "mimetype": "text/x-python",
   "name": "python",
   "nbconvert_exporter": "python",
   "pygments_lexer": "ipython3",
   "version": "3.12.6"
  }
 },
 "nbformat": 4,
 "nbformat_minor": 5
}
