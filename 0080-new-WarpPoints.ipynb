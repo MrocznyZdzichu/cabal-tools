{
 "cells": [
  {
   "cell_type": "code",
   "execution_count": null,
   "id": "9edb25ea",
   "metadata": {},
   "outputs": [],
   "source": [
    "%load_ext autoreload\n",
    "%autoreload 2"
   ]
  },
  {
   "cell_type": "code",
   "execution_count": null,
   "id": "52a76b26",
   "metadata": {},
   "outputs": [],
   "source": [
    "import CabalTools\n",
    "\n",
    "main = CabalTools.CabalTools()"
   ]
  },
  {
   "cell_type": "code",
   "execution_count": null,
   "id": "bac9ce42",
   "metadata": {},
   "outputs": [],
   "source": [
    "main.backup_warp_files()"
   ]
  },
  {
   "cell_type": "code",
   "execution_count": null,
   "id": "4c8c97d1",
   "metadata": {},
   "outputs": [],
   "source": [
    "from CabalTools.WarpsManagement.WarpPointItem import WarpPointItem\n",
    "warp_by_LiD = WarpPointItem(\n",
    "    x        = '43',\n",
    "    y        = '19',\n",
    "    WorldIdx = '3',\n",
    "    w_code   = '1',\n",
    ")\n",
    "new_dec, new_scp = main.WarpManager.add_warp_point(warp_by_LiD, save_files=True, do_reinit=True)"
   ]
  }
 ],
 "metadata": {
  "kernelspec": {
   "display_name": ".venv",
   "language": "python",
   "name": "python3"
  },
  "language_info": {
   "codemirror_mode": {
    "name": "ipython",
    "version": 3
   },
   "file_extension": ".py",
   "mimetype": "text/x-python",
   "name": "python",
   "nbconvert_exporter": "python",
   "pygments_lexer": "ipython3",
   "version": "3.12.6"
  }
 },
 "nbformat": 4,
 "nbformat_minor": 5
}
