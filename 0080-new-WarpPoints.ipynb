{
 "cells": [
  {
   "cell_type": "code",
   "execution_count": 1,
   "id": "52a76b26",
   "metadata": {},
   "outputs": [
    {
     "name": "stdout",
     "output_type": "stream",
     "text": [
      "Loading configuration ...\n",
      "Configuring data loaders ...\n",
      "Loading skill-related data ...\n",
      "Starting SkillManager module ...\n",
      "Loading shops-related data ...\n",
      "Loading items-related messages ...\n",
      "Starting ShopsManager module ...\n",
      "Load Warp Points data ...\n",
      "Starting WarpMangager module ...\n"
     ]
    }
   ],
   "source": [
    "import CabalTools\n",
    "\n",
    "main = CabalTools.CabalTools()\n",
    "main.backup_warp_files()"
   ]
  },
  {
   "cell_type": "code",
   "execution_count": null,
   "id": "4c8c97d1",
   "metadata": {},
   "outputs": [],
   "source": [
    "from CabalTools.WarpsManagement.WarpPointItem import WarpPointItem\n",
    "warp_by_LiD = WarpPointItem(\n",
    "    x        = '43',\n",
    "    y        = '19',\n",
    "    WorldIdx = '3',\n",
    "    w_code   = '1',\n",
    ")\n",
    "new_dec, new_scp = main.WarpManager.add_warp_point(warp_by_LiD, save_files=True, do_reinit=True)"
   ]
  }
 ],
 "metadata": {
  "kernelspec": {
   "display_name": ".venv",
   "language": "python",
   "name": "python3"
  },
  "language_info": {
   "codemirror_mode": {
    "name": "ipython",
    "version": 3
   },
   "file_extension": ".py",
   "mimetype": "text/x-python",
   "name": "python",
   "nbconvert_exporter": "python",
   "pygments_lexer": "ipython3",
   "version": "3.12.6"
  }
 },
 "nbformat": 4,
 "nbformat_minor": 5
}
