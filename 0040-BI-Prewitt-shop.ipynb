{
 "cells": [
  {
   "cell_type": "code",
   "execution_count": null,
   "id": "6e6c83a8",
   "metadata": {},
   "outputs": [],
   "source": [
    "%load_ext autoreload\n",
    "%autoreload 2"
   ]
  },
  {
   "cell_type": "code",
   "execution_count": null,
   "id": "cba78bc0",
   "metadata": {},
   "outputs": [],
   "source": [
    "from CabalTools import CabalTools\n",
    "\n",
    "main = CabalTools(modules='ShopsManager')"
   ]
  },
  {
   "cell_type": "code",
   "execution_count": null,
   "id": "015c1ffa",
   "metadata": {},
   "outputs": [],
   "source": [
    "main.backup('npc_shops')"
   ]
  },
  {
   "cell_type": "markdown",
   "id": "9f59e67e",
   "metadata": {},
   "source": [
    "## Remove original Prewitt weapons' shop"
   ]
  },
  {
   "cell_type": "code",
   "execution_count": null,
   "id": "18f034ba",
   "metadata": {},
   "outputs": [],
   "source": [
    "prewitt_shop_data = main.ShopsManager.preview_shops(\n",
    "    section='Shop', \n",
    "    columns_to_show=['Pool_ID', 'TabID', 'SlotID', 'ItemKind', 'Item_Name', 'AlzPrice', 'NPC_Name'], \n",
    "    filter_key='NPC_Name', \n",
    "    filter_val='Prewitt', \n",
    "    filter_operator='like'\n",
    ")\n",
    "result = {\n",
    "    i: {'pool_id_or_name': x['NPC_Name'], 'TabID': x['TabID'], 'SlotID': x['SlotID']}\n",
    "    for i, x in enumerate(prewitt_shop_data.to_dict(orient='records'))\n",
    "}"
   ]
  },
  {
   "cell_type": "code",
   "execution_count": null,
   "id": "73c47c11",
   "metadata": {},
   "outputs": [],
   "source": [
    "sink = main.ShopsManager.batch_remove_item_from_shop(result, do_reinit=True, save_files=True)"
   ]
  },
  {
   "cell_type": "code",
   "execution_count": null,
   "id": "e940f78a",
   "metadata": {},
   "outputs": [],
   "source": [
    "prewitt_shop_data = main.ShopsManager.preview_shops(\n",
    "    section='Shop', \n",
    "    columns_to_show=['Pool_ID', 'TabID', 'SlotID', 'ItemKind', 'Item_Name', 'AlzPrice', 'NPC_Name'], \n",
    "    filter_key='NPC_Name', \n",
    "    filter_val='Prewitt', \n",
    "    filter_operator='like'\n",
    ")"
   ]
  },
  {
   "cell_type": "markdown",
   "id": "e414a3be",
   "metadata": {},
   "source": [
    "## Add new items to Prewitt - starting weapons"
   ]
  },
  {
   "cell_type": "code",
   "execution_count": null,
   "id": "3c7cc38c",
   "metadata": {},
   "outputs": [],
   "source": [
    "from CabalTools.NPCShopManagement.ShopItem import ShopItem\n",
    "\n",
    "new_items = {\n",
    "    0:   ShopItem(ItemKind=122974, AlzPrice=1, ItemOpt=538186916),  # Shadowsteel Great Sword +15\n",
    "    2:   ShopItem(ItemKind=122974, AlzPrice=1, ItemOpt=538186997),\n",
    "    4:   ShopItem(ItemKind=122974, AlzPrice=1, ItemOpt=538450088),\n",
    "\n",
    "    34:  ShopItem(ItemKind=122929, AlzPrice=1, ItemOpt=538186916),  # Shadowsteel Katana +15\n",
    "    36:  ShopItem(ItemKind=122929, AlzPrice=1, ItemOpt=538186997),\n",
    "    38:  ShopItem(ItemKind=122929, AlzPrice=1, ItemOpt=538450088),\n",
    "\n",
    "    65:  ShopItem(ItemKind=122944, AlzPrice=1, ItemOpt=538186916),  # Shadowsteel Blade +15\n",
    "    66:  ShopItem(ItemKind=122944, AlzPrice=1, ItemOpt=538186997),\n",
    "    67:  ShopItem(ItemKind=122944, AlzPrice=1, ItemOpt=538450088),\n",
    "\n",
    "    98:  ShopItem(ItemKind=33677658, AlzPrice=1, ItemOpt=538186916),  # Shadowsteel Chakram +15\n",
    "    100: ShopItem(ItemKind=33677658, AlzPrice=1, ItemOpt=538186997),\n",
    "    102: ShopItem(ItemKind=33677658, AlzPrice=1, ItemOpt=538450088),\n",
    "}\n",
    "\n",
    "npc_name = 'Prewitt (Weapon Dealer)'\n",
    "\n",
    "sink = main.ShopsManager.batch_add_item_to_shop(npc_name, new_items, shop_tab_id=0, save_files=True, do_reinit=True)"
   ]
  },
  {
   "cell_type": "code",
   "execution_count": null,
   "id": "710d6bf1",
   "metadata": {},
   "outputs": [],
   "source": [
    "prewitt_shop_data = main.ShopsManager.preview_shops(\n",
    "    section='Shop', \n",
    "    columns_to_show=['Pool_ID', 'TabID', 'SlotID', 'ItemKind', 'Item_Name', 'AlzPrice', 'NPC_Name'], \n",
    "    filter_key='NPC_Name', \n",
    "    filter_val='Prewitt', \n",
    "    filter_operator='like'\n",
    ")"
   ]
  }
 ],
 "metadata": {
  "kernelspec": {
   "display_name": ".venv",
   "language": "python",
   "name": "python3"
  },
  "language_info": {
   "codemirror_mode": {
    "name": "ipython",
    "version": 3
   },
   "file_extension": ".py",
   "mimetype": "text/x-python",
   "name": "python",
   "nbconvert_exporter": "python",
   "pygments_lexer": "ipython3",
   "version": "3.12.6"
  }
 },
 "nbformat": 4,
 "nbformat_minor": 5
}
