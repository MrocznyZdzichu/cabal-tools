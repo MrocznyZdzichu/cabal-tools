{
 "cells": [
  {
   "cell_type": "code",
   "execution_count": 1,
   "id": "ef9ff130",
   "metadata": {},
   "outputs": [],
   "source": [
    "%load_ext autoreload\n",
    "%autoreload 2"
   ]
  },
  {
   "cell_type": "code",
   "execution_count": 3,
   "id": "93c389f5",
   "metadata": {},
   "outputs": [
    {
     "name": "stdout",
     "output_type": "stream",
     "text": [
      "Loading configuration ...\n",
      "Configuring data loaders ...\n",
      "\tInitializing skills data loader ... Done!\n",
      "Configuring managers ...\n",
      "\tInitializing SkillManager ... Done!\n"
     ]
    }
   ],
   "source": [
    "from CabalTools import CabalTools\n",
    "\n",
    "main = CabalTools()"
   ]
  },
  {
   "cell_type": "code",
   "execution_count": null,
   "id": "eb6d5c92",
   "metadata": {},
   "outputs": [],
   "source": [
    "main.backup_skill_files()"
   ]
  },
  {
   "cell_type": "code",
   "execution_count": null,
   "id": "868f8263",
   "metadata": {},
   "outputs": [],
   "source": [
    "skills_times_config = {\n",
    "    'Lance Drive'           : 2,\n",
    "    'Lancer Attack #1'      : 1.25,\n",
    "    'Lancer Attack #1'      : 1.25,\n",
    "    'Lancer Attack #2'      : 1.25,\n",
    "    'Lancer Attack #3'      : 1.25,\n",
    "    'Lancer Attack #4'      : 1.25,\n",
    "    'Axe Attack A'          : 1.15,\n",
    "    'Axe Attack B'          : 1.15,\n",
    "    'Axe Specialty Level 1' : 1.5,\n",
    "    'Axe Specialty Level 2' : 1.5,\n",
    "    'Axe Specialty Level 3' : 1.5,\n",
    "\n",
    "}\n",
    "\n",
    "for skill, adjTime in skills_times_config.items():\n",
    "    main.SkillManager.set_AdjustTime(\n",
    "        skill_name = skill, \n",
    "        new_value  = adjTime, \n",
    "        save_files = True, \n",
    "        do_reinit  = True\n",
    "    )"
   ]
  }
 ],
 "metadata": {
  "kernelspec": {
   "display_name": ".venv",
   "language": "python",
   "name": "python3"
  },
  "language_info": {
   "codemirror_mode": {
    "name": "ipython",
    "version": 3
   },
   "file_extension": ".py",
   "mimetype": "text/x-python",
   "name": "python",
   "nbconvert_exporter": "python",
   "pygments_lexer": "ipython3",
   "version": "3.12.6"
  }
 },
 "nbformat": 4,
 "nbformat_minor": 5
}
