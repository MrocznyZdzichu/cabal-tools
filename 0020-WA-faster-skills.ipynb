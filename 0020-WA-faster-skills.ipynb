{
 "cells": [
  {
   "cell_type": "code",
   "execution_count": null,
   "id": "868f8263",
   "metadata": {},
   "outputs": [
    {
     "name": "stdout",
     "output_type": "stream",
     "text": [
      "Loading configuration ...\n",
      "Configuring data loaders ...\n",
      "Loading skill-related data ...\n",
      "Starting SkillManager module ...\n",
      "Loading shops-related data ...\n",
      "Loading items-related messages ...\n",
      "Starting ShopsManager module ...\n"
     ]
    }
   ],
   "source": [
    "from CabalTools import CabalTools\n",
    "\n",
    "main = CabalTools()\n",
    "\n",
    "main.backup_skill_files()\n",
    "\n",
    "skills_times_config = {\n",
    "    'Lance Drive'           : 2,\n",
    "    'Lancer Attack #1'      : 1.25,\n",
    "    'Lancer Attack #1'      : 1.25,\n",
    "    'Lancer Attack #2'      : 1.25,\n",
    "    'Lancer Attack #3'      : 1.25,\n",
    "    'Lancer Attack #4'      : 1.25,\n",
    "    'Axe Attack A'          : 1.15,\n",
    "    'Axe Attack B'          : 1.15,\n",
    "    'Axe Specialty Level 1' : 1.5,\n",
    "    'Axe Specialty Level 2' : 1.5,\n",
    "    'Axe Specialty Level 3' : 1.5,\n",
    "\n",
    "}\n",
    "for skill, adjTime in skills_times_config.items():\n",
    "    main.SkillManager.set_AdjustTime(\n",
    "        skill_name = skill, \n",
    "        new_value  = adjTime, \n",
    "        save_files = True, \n",
    "        do_reinit  = True\n",
    "    )"
   ]
  }
 ],
 "metadata": {
  "kernelspec": {
   "display_name": ".venv",
   "language": "python",
   "name": "python3"
  },
  "language_info": {
   "codemirror_mode": {
    "name": "ipython",
    "version": 3
   },
   "file_extension": ".py",
   "mimetype": "text/x-python",
   "name": "python",
   "nbconvert_exporter": "python",
   "pygments_lexer": "ipython3",
   "version": "3.12.6"
  }
 },
 "nbformat": 4,
 "nbformat_minor": 5
}
