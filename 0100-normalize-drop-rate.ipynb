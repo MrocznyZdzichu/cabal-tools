{
 "cells": [
  {
   "cell_type": "markdown",
   "id": "c7cd7de7",
   "metadata": {},
   "source": [
    "### We deliberately lower drop rate to prevent truncating of drop lists"
   ]
  },
  {
   "cell_type": "code",
   "execution_count": null,
   "id": "c07cb67b",
   "metadata": {},
   "outputs": [],
   "source": [
    "%load_ext autoreload\n",
    "%autoreload 2"
   ]
  },
  {
   "cell_type": "code",
   "execution_count": null,
   "id": "e6a86351",
   "metadata": {},
   "outputs": [],
   "source": [
    "import CabalTools\n",
    "main = CabalTools.CabalTools()"
   ]
  },
  {
   "cell_type": "code",
   "execution_count": null,
   "id": "2810e74b",
   "metadata": {},
   "outputs": [],
   "source": [
    "main.backup_multiple_scp_file()"
   ]
  },
  {
   "cell_type": "code",
   "execution_count": null,
   "id": "b1e16bd7",
   "metadata": {},
   "outputs": [],
   "source": [
    "main.MultipleManager.set_drop_rate(77, save_files=True)"
   ]
  }
 ],
 "metadata": {
  "kernelspec": {
   "display_name": ".venv",
   "language": "python",
   "name": "python3"
  },
  "language_info": {
   "codemirror_mode": {
    "name": "ipython",
    "version": 3
   },
   "file_extension": ".py",
   "mimetype": "text/x-python",
   "name": "python",
   "nbconvert_exporter": "python",
   "pygments_lexer": "ipython3",
   "version": "3.12.6"
  }
 },
 "nbformat": 4,
 "nbformat_minor": 5
}
