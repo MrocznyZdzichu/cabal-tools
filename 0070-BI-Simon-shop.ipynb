{
 "cells": [
  {
   "cell_type": "code",
   "execution_count": null,
   "id": "5c2cdaff",
   "metadata": {},
   "outputs": [],
   "source": [
    "%load_ext autoreload\n",
    "%autoreload 2"
   ]
  },
  {
   "cell_type": "code",
   "execution_count": null,
   "id": "36b570ef",
   "metadata": {},
   "outputs": [],
   "source": [
    "from CabalTools import CabalTools\n",
    "\n",
    "main = CabalTools()"
   ]
  },
  {
   "cell_type": "code",
   "execution_count": null,
   "id": "e1ca58c2",
   "metadata": {},
   "outputs": [],
   "source": [
    "main.backup_npc_shops_files()"
   ]
  },
  {
   "cell_type": "code",
   "execution_count": null,
   "id": "acedc620",
   "metadata": {},
   "outputs": [],
   "source": [
    "npc_name_mask = 'Simon'\n",
    "sink = main.ShopsManager.preview_shops(\n",
    "    section='Shop', \n",
    "    columns_to_show=['Pool_ID', 'TabID', 'SlotID', 'ItemKind', 'Item_Name', 'AlzPrice', 'NPC_Name'], \n",
    "    filter_key='NPC_Name', \n",
    "    filter_val=npc_name_mask, \n",
    "    filter_operator='like'\n",
    ")"
   ]
  },
  {
   "cell_type": "markdown",
   "id": "5dd30101",
   "metadata": {},
   "source": [
    "### Add new items"
   ]
  },
  {
   "cell_type": "code",
   "execution_count": null,
   "id": "80d85480",
   "metadata": {},
   "outputs": [],
   "source": [
    "from CabalTools.NPCShopManagement.ShopItem import ShopItem\n",
    "\n",
    "items_to_add = {\n",
    "    8: ShopItem(ItemKind=2105, AlzPrice=1, ItemOpt=0, DurationIdx=0, MinLevel=0, MaxLevel=0, GuildMinLevel=0, Reputation=-19, MaxReputation=20, OnlyPremium=0, OnlyWin=0, WExpPrice=0, APPrice=0, DPPrice=0, ItemPrice=0, ForcegemPrice=0, D_Limit=0, W_Limit=0),\n",
    "    1: ShopItem(ItemKind=199, AlzPrice=1, ItemOpt=538450168, DurationIdx=0, MinLevel=0, MaxLevel=0, GuildMinLevel=0, Reputation=-19, MaxReputation=20, OnlyPremium=0, OnlyWin=0, WExpPrice=0, APPrice=0, DPPrice=0, ItemPrice=0, ForcegemPrice=0, D_Limit=0, W_Limit=0),\n",
    "    9: ShopItem(ItemKind=154, AlzPrice=1, ItemOpt=538450168, DurationIdx=0, MinLevel=0, MaxLevel=0, GuildMinLevel=0, Reputation=-19, MaxReputation=20, OnlyPremium=0, OnlyWin=0, WExpPrice=0, APPrice=0, DPPrice=0, ItemPrice=0, ForcegemPrice=0, D_Limit=0, W_Limit=0),\n",
    "    17: ShopItem(ItemKind=109, AlzPrice=1, ItemOpt=538450168, DurationIdx=0, MinLevel=0, MaxLevel=0, GuildMinLevel=0, Reputation=-19, MaxReputation=20, OnlyPremium=0, OnlyWin=0, WExpPrice=0, APPrice=0, DPPrice=0, ItemPrice=0, ForcegemPrice=0, D_Limit=0, W_Limit=0),\n",
    "    25: ShopItem(ItemKind=244, AlzPrice=1, ItemOpt=538186996, DurationIdx=0, MinLevel=0, MaxLevel=0, GuildMinLevel=0, Reputation=-19, MaxReputation=20, OnlyPremium=0, OnlyWin=0, WExpPrice=0, APPrice=0, DPPrice=0, ItemPrice=0, ForcegemPrice=0, D_Limit=0, W_Limit=0),\n",
    "    33: ShopItem(ItemKind=244, AlzPrice=1, ItemOpt=538186997, DurationIdx=0, MinLevel=0, MaxLevel=0, GuildMinLevel=0, Reputation=-19, MaxReputation=20, OnlyPremium=0, OnlyWin=0, WExpPrice=0, APPrice=0, DPPrice=0, ItemPrice=0, ForcegemPrice=0, D_Limit=0, W_Limit=0),\n",
    "    41: ShopItem(ItemKind=244, AlzPrice=1, ItemOpt=538450168, DurationIdx=0, MinLevel=0, MaxLevel=0, GuildMinLevel=0, Reputation=-19, MaxReputation=20, OnlyPremium=0, OnlyWin=0, WExpPrice=0, APPrice=0, DPPrice=0, ItemPrice=0, ForcegemPrice=0, D_Limit=0, W_Limit=0),\n",
    "    3: ShopItem(ItemKind=229, AlzPrice=1, ItemOpt=538450168, DurationIdx=0, MinLevel=0, MaxLevel=0, GuildMinLevel=0, Reputation=-19, MaxReputation=20, OnlyPremium=0, OnlyWin=0, WExpPrice=0, APPrice=0, DPPrice=0, ItemPrice=0, ForcegemPrice=0, D_Limit=0, W_Limit=0),\n",
    "    11: ShopItem(ItemKind=184, AlzPrice=1, ItemOpt=538450168, DurationIdx=0, MinLevel=0, MaxLevel=0, GuildMinLevel=0, Reputation=-19, MaxReputation=20, OnlyPremium=0, OnlyWin=0, WExpPrice=0, APPrice=0, DPPrice=0, ItemPrice=0, ForcegemPrice=0, D_Limit=0, W_Limit=0),\n",
    "    19: ShopItem(ItemKind=139, AlzPrice=1, ItemOpt=538450168, DurationIdx=0, MinLevel=0, MaxLevel=0, GuildMinLevel=0, Reputation=-19, MaxReputation=20, OnlyPremium=0, OnlyWin=0, WExpPrice=0, APPrice=0, DPPrice=0, ItemPrice=0, ForcegemPrice=0, D_Limit=0, W_Limit=0),\n",
    "    27: ShopItem(ItemKind=274, AlzPrice=1, ItemOpt=538186996, DurationIdx=0, MinLevel=0, MaxLevel=0, GuildMinLevel=0, Reputation=-19, MaxReputation=20, OnlyPremium=0, OnlyWin=0, WExpPrice=0, APPrice=0, DPPrice=0, ItemPrice=0, ForcegemPrice=0, D_Limit=0, W_Limit=0),\n",
    "    35: ShopItem(ItemKind=274, AlzPrice=1, ItemOpt=538186997, DurationIdx=0, MinLevel=0, MaxLevel=0, GuildMinLevel=0, Reputation=-19, MaxReputation=20, OnlyPremium=0, OnlyWin=0, WExpPrice=0, APPrice=0, DPPrice=0, ItemPrice=0, ForcegemPrice=0, D_Limit=0, W_Limit=0),\n",
    "    43: ShopItem(ItemKind=274, AlzPrice=1, ItemOpt=538450168, DurationIdx=0, MinLevel=0, MaxLevel=0, GuildMinLevel=0, Reputation=-19, MaxReputation=20, OnlyPremium=0, OnlyWin=0, WExpPrice=0, APPrice=0, DPPrice=0, ItemPrice=0, ForcegemPrice=0, D_Limit=0, W_Limit=0),\n",
    "    5: ShopItem(ItemKind=229, AlzPrice=1, ItemOpt=538515961, DurationIdx=0, MinLevel=0, MaxLevel=0, GuildMinLevel=0, Reputation=-19, MaxReputation=20, OnlyPremium=0, OnlyWin=0, WExpPrice=0, APPrice=0, DPPrice=0, ItemPrice=0, ForcegemPrice=0, D_Limit=0, W_Limit=0),\n",
    "    13: ShopItem(ItemKind=184, AlzPrice=1, ItemOpt=538515961, DurationIdx=0, MinLevel=0, MaxLevel=0, GuildMinLevel=0, Reputation=-19, MaxReputation=20, OnlyPremium=0, OnlyWin=0, WExpPrice=0, APPrice=0, DPPrice=0, ItemPrice=0, ForcegemPrice=0, D_Limit=0, W_Limit=0),\n",
    "    21: ShopItem(ItemKind=139, AlzPrice=1, ItemOpt=538515961, DurationIdx=0, MinLevel=0, MaxLevel=0, GuildMinLevel=0, Reputation=-19, MaxReputation=20, OnlyPremium=0, OnlyWin=0, WExpPrice=0, APPrice=0, DPPrice=0, ItemPrice=0, ForcegemPrice=0, D_Limit=0, W_Limit=0),\n",
    "    29: ShopItem(ItemKind=274, AlzPrice=1, ItemOpt=538186996, DurationIdx=0, MinLevel=0, MaxLevel=0, GuildMinLevel=0, Reputation=-19, MaxReputation=20, OnlyPremium=0, OnlyWin=0, WExpPrice=0, APPrice=0, DPPrice=0, ItemPrice=0, ForcegemPrice=0, D_Limit=0, W_Limit=0),\n",
    "    37: ShopItem(ItemKind=274, AlzPrice=1, ItemOpt=538186997, DurationIdx=0, MinLevel=0, MaxLevel=0, GuildMinLevel=0, Reputation=-19, MaxReputation=20, OnlyPremium=0, OnlyWin=0, WExpPrice=0, APPrice=0, DPPrice=0, ItemPrice=0, ForcegemPrice=0, D_Limit=0, W_Limit=0),\n",
    "    45: ShopItem(ItemKind=274, AlzPrice=1, ItemOpt=538515961, DurationIdx=0, MinLevel=0, MaxLevel=0, GuildMinLevel=0, Reputation=-19, MaxReputation=20, OnlyPremium=0, OnlyWin=0, WExpPrice=0, APPrice=0, DPPrice=0, ItemPrice=0, ForcegemPrice=0, D_Limit=0, W_Limit=0),\n",
    "    96: ShopItem(ItemKind=214, AlzPrice=1, ItemOpt=538450168, DurationIdx=0, MinLevel=0, MaxLevel=0, GuildMinLevel=0, Reputation=-19, MaxReputation=20, OnlyPremium=0, OnlyWin=0, WExpPrice=0, APPrice=0, DPPrice=0, ItemPrice=0, ForcegemPrice=0, D_Limit=0, W_Limit=0),\n",
    "    97: ShopItem(ItemKind=169, AlzPrice=1, ItemOpt=538450168, DurationIdx=0, MinLevel=0, MaxLevel=0, GuildMinLevel=0, Reputation=-19, MaxReputation=20, OnlyPremium=0, OnlyWin=0, WExpPrice=0, APPrice=0, DPPrice=0, ItemPrice=0, ForcegemPrice=0, D_Limit=0, W_Limit=0),\n",
    "    98: ShopItem(ItemKind=124, AlzPrice=1, ItemOpt=538450168, DurationIdx=0, MinLevel=0, MaxLevel=0, GuildMinLevel=0, Reputation=-19, MaxReputation=20, OnlyPremium=0, OnlyWin=0, WExpPrice=0, APPrice=0, DPPrice=0, ItemPrice=0, ForcegemPrice=0, D_Limit=0, W_Limit=0),\n",
    "    99: ShopItem(ItemKind=259, AlzPrice=1, ItemOpt=538186996, DurationIdx=0, MinLevel=0, MaxLevel=0, GuildMinLevel=0, Reputation=-19, MaxReputation=20, OnlyPremium=0, OnlyWin=0, WExpPrice=0, APPrice=0, DPPrice=0, ItemPrice=0, ForcegemPrice=0, D_Limit=0, W_Limit=0),\n",
    "    100: ShopItem(ItemKind=259, AlzPrice=1, ItemOpt=538186997, DurationIdx=0, MinLevel=0, MaxLevel=0, GuildMinLevel=0, Reputation=-19, MaxReputation=20, OnlyPremium=0, OnlyWin=0, WExpPrice=0, APPrice=0, DPPrice=0, ItemPrice=0, ForcegemPrice=0, D_Limit=0, W_Limit=0),\n",
    "    101: ShopItem(ItemKind=259, AlzPrice=1, ItemOpt=538450168, DurationIdx=0, MinLevel=0, MaxLevel=0, GuildMinLevel=0, Reputation=-19, MaxReputation=20, OnlyPremium=0, OnlyWin=0, WExpPrice=0, APPrice=0, DPPrice=0, ItemPrice=0, ForcegemPrice=0, D_Limit=0, W_Limit=0),\n",
    "    104: ShopItem(ItemKind=214, AlzPrice=1, ItemOpt=538515961, DurationIdx=0, MinLevel=0, MaxLevel=0, GuildMinLevel=0, Reputation=-19, MaxReputation=20, OnlyPremium=0, OnlyWin=0, WExpPrice=0, APPrice=0, DPPrice=0, ItemPrice=0, ForcegemPrice=0, D_Limit=0, W_Limit=0),\n",
    "    105: ShopItem(ItemKind=169, AlzPrice=1, ItemOpt=538515961, DurationIdx=0, MinLevel=0, MaxLevel=0, GuildMinLevel=0, Reputation=-19, MaxReputation=20, OnlyPremium=0, OnlyWin=0, WExpPrice=0, APPrice=0, DPPrice=0, ItemPrice=0, ForcegemPrice=0, D_Limit=0, W_Limit=0),\n",
    "    106: ShopItem(ItemKind=124, AlzPrice=1, ItemOpt=538515961, DurationIdx=0, MinLevel=0, MaxLevel=0, GuildMinLevel=0, Reputation=-19, MaxReputation=20, OnlyPremium=0, OnlyWin=0, WExpPrice=0, APPrice=0, DPPrice=0, ItemPrice=0, ForcegemPrice=0, D_Limit=0, W_Limit=0),\n",
    "    107: ShopItem(ItemKind=259, AlzPrice=1, ItemOpt=538186996, DurationIdx=0, MinLevel=0, MaxLevel=0, GuildMinLevel=0, Reputation=-19, MaxReputation=20, OnlyPremium=0, OnlyWin=0, WExpPrice=0, APPrice=0, DPPrice=0, ItemPrice=0, ForcegemPrice=0, D_Limit=0, W_Limit=0),\n",
    "    108: ShopItem(ItemKind=259, AlzPrice=1, ItemOpt=538186997, DurationIdx=0, MinLevel=0, MaxLevel=0, GuildMinLevel=0, Reputation=-19, MaxReputation=20, OnlyPremium=0, OnlyWin=0, WExpPrice=0, APPrice=0, DPPrice=0, ItemPrice=0, ForcegemPrice=0, D_Limit=0, W_Limit=0),\n",
    "    109: ShopItem(ItemKind=259, AlzPrice=1, ItemOpt=538515961, DurationIdx=0, MinLevel=0, MaxLevel=0, GuildMinLevel=0, Reputation=-19, MaxReputation=20, OnlyPremium=0, OnlyWin=0, WExpPrice=0, APPrice=0, DPPrice=0, ItemPrice=0, ForcegemPrice=0, D_Limit=0, W_Limit=0),\n",
    "    32: ShopItem(ItemKind=3525, AlzPrice=1, ItemOpt=192639, DurationIdx=0, MinLevel=0, MaxLevel=0, GuildMinLevel=0, Reputation=-19, MaxReputation=20, OnlyPremium=0, OnlyWin=0, WExpPrice=0, APPrice=0, DPPrice=0, ItemPrice=0, ForcegemPrice=0, D_Limit=0, W_Limit=0)\n",
    "}\n",
    "sink = main.ShopsManager.batch_add_item_to_shop(npc_name_mask, items_to_add, shop_tab_id=0, save_files=True, do_reinit=True)"
   ]
  },
  {
   "cell_type": "code",
   "execution_count": null,
   "id": "7ec34ccd",
   "metadata": {},
   "outputs": [],
   "source": [
    "sink = main.ShopsManager.preview_shops(\n",
    "    section='Shop', \n",
    "    columns_to_show=['Pool_ID', 'TabID', 'SlotID', 'ItemKind', 'ItemOpt', 'Item_Name', 'AlzPrice', 'NPC_Name'], \n",
    "    filter_key='NPC_Name', \n",
    "    filter_val=npc_name_mask, \n",
    "    filter_operator='like'\n",
    ")"
   ]
  }
 ],
 "metadata": {
  "kernelspec": {
   "display_name": ".venv",
   "language": "python",
   "name": "python3"
  },
  "language_info": {
   "codemirror_mode": {
    "name": "ipython",
    "version": 3
   },
   "file_extension": ".py",
   "mimetype": "text/x-python",
   "name": "python",
   "nbconvert_exporter": "python",
   "pygments_lexer": "ipython3",
   "version": "3.12.6"
  }
 },
 "nbformat": 4,
 "nbformat_minor": 5
}
