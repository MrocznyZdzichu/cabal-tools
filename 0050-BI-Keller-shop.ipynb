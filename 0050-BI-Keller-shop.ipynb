{
 "cells": [
  {
   "cell_type": "code",
   "execution_count": null,
   "id": "558ee3c1",
   "metadata": {},
   "outputs": [],
   "source": [
    "%load_ext autoreload\n",
    "%autoreload 2"
   ]
  },
  {
   "cell_type": "code",
   "execution_count": null,
   "id": "cfff991d",
   "metadata": {},
   "outputs": [],
   "source": [
    "from CabalTools import CabalTools\n",
    "\n",
    "main = CabalTools()"
   ]
  },
  {
   "cell_type": "code",
   "execution_count": null,
   "id": "e3c7521c",
   "metadata": {},
   "outputs": [],
   "source": [
    "main.backup_npc_shops_files()"
   ]
  },
  {
   "cell_type": "code",
   "execution_count": null,
   "id": "f7dbc553",
   "metadata": {},
   "outputs": [],
   "source": [
    "sink = main.ShopsManager.preview_shops(\n",
    "    section='Shop', \n",
    "    columns_to_show=['Pool_ID', 'TabID', 'SlotID', 'ItemKind', 'Item_Name', 'AlzPrice', 'NPC_Name'], \n",
    "    filter_key='NPC_Name', \n",
    "    filter_val='Keller', \n",
    "    filter_operator='like'\n",
    ")"
   ]
  },
  {
   "cell_type": "markdown",
   "id": "2f936af7",
   "metadata": {},
   "source": [
    "### Items to remove from the shop"
   ]
  },
  {
   "cell_type": "code",
   "execution_count": null,
   "id": "e9b99240",
   "metadata": {},
   "outputs": [],
   "source": [
    "items_to_remove = {\n",
    "    0: {'pool_id_or_name': 'Keller (Core Alchemist)', 'TabID': 0, 'SlotID': 0},\n",
    "    1: {'pool_id_or_name': 'Keller (Core Alchemist)', 'TabID': 0, 'SlotID': 16},\n",
    "    2: {'pool_id_or_name': 'Keller (Core Alchemist)', 'TabID': 0, 'SlotID': 32},\n",
    "    3: {'pool_id_or_name': 'Keller (Core Alchemist)', 'TabID': 0, 'SlotID': 48},\n",
    "    4: {'pool_id_or_name': 'Keller (Core Alchemist)', 'TabID': 0, 'SlotID': 64},\n",
    "    25: {'pool_id_or_name': 'Keller (Core Alchemist)', 'TabID': 0, 'SlotID': 44},\n",
    "    28: {'pool_id_or_name': 'Keller (Core Alchemist)', 'TabID': 0, 'SlotID': 52},\n",
    "    31: {'pool_id_or_name': 'Keller (Core Alchemist)', 'TabID': 0, 'SlotID': 60},\n",
    "    37: {'pool_id_or_name': 'Keller (Core Alchemist)', 'TabID': 0, 'SlotID': 120},\n",
    "    38: {'pool_id_or_name': 'Keller (Core Alchemist)', 'TabID': 0, 'SlotID': 121},\n",
    "    39: {'pool_id_or_name': 'Keller (Core Alchemist)', 'TabID': 0, 'SlotID': 122}\n",
    "}\n",
    "sink = main.ShopsManager.batch_remove_item_from_shop(items_to_remove, do_reinit=True, save_files=False)"
   ]
  },
  {
   "cell_type": "code",
   "execution_count": null,
   "id": "ed2796f6",
   "metadata": {},
   "outputs": [],
   "source": [
    "sink = main.ShopsManager.preview_shops(\n",
    "    section='Shop', \n",
    "    columns_to_show=['Pool_ID', 'TabID', 'SlotID', 'ItemKind', 'Item_Name', 'AlzPrice', 'NPC_Name'], \n",
    "    filter_key='NPC_Name', \n",
    "    filter_val='Keller', \n",
    "    filter_operator='like'\n",
    ")"
   ]
  },
  {
   "cell_type": "markdown",
   "id": "5a6e2056",
   "metadata": {},
   "source": [
    "### Add new items"
   ]
  },
  {
   "cell_type": "code",
   "execution_count": null,
   "id": "760bc192",
   "metadata": {},
   "outputs": [],
   "source": []
  },
  {
   "cell_type": "code",
   "execution_count": null,
   "id": "0d452ad2",
   "metadata": {},
   "outputs": [],
   "source": [
    "from CabalTools.NPCShopManagement.ShopItem import ShopItem\n",
    "\n",
    "items_to_add = {\n",
    "    0: ShopItem(ItemKind=122914, AlzPrice=1, ItemOpt=538186916),\n",
    "    8: ShopItem(ItemKind=122914, AlzPrice=1, ItemOpt=538186997),\n",
    "    16: ShopItem(ItemKind=122914, AlzPrice=1, ItemOpt=538450088),\n",
    "    44: ShopItem(ItemKind=384, AlzPrice=1, ItemOpt=0),\n",
    "    52: ShopItem(ItemKind=406, AlzPrice=1, ItemOpt=0),\n",
    "    60: ShopItem(ItemKind=716, AlzPrice=1, ItemOpt=0),\n",
    "    120: ShopItem(ItemKind=313, AlzPrice=1, ItemOpt=0),\n",
    "    121: ShopItem(ItemKind=310, AlzPrice=1, ItemOpt=0),\n",
    "    122: ShopItem(ItemKind=292, AlzPrice=1, ItemOpt=0),\n",
    "    2: ShopItem(ItemKind=122899, AlzPrice=1, ItemOpt=538186916),\n",
    "    10: ShopItem(ItemKind=122899, AlzPrice=1, ItemOpt=538186997),\n",
    "    18: ShopItem(ItemKind=122899, AlzPrice=1, ItemOpt=538515881),\n",
    "    123: ShopItem(ItemKind=300, AlzPrice=1, ItemOpt=0),\n",
    "}\n",
    "sink = main.ShopsManager.batch_add_item_to_shop('Keller (Core Alchemist)', items_to_add, shop_tab_id=0, save_files=True, do_reinit=True)"
   ]
  },
  {
   "cell_type": "code",
   "execution_count": null,
   "id": "8ccc6ca4",
   "metadata": {},
   "outputs": [],
   "source": [
    "sink = main.ShopsManager.preview_shops(\n",
    "    section='Shop', \n",
    "    columns_to_show=['Pool_ID', 'TabID', 'SlotID', 'ItemKind', 'Item_Name', 'AlzPrice', 'NPC_Name'], \n",
    "    filter_key='NPC_Name', \n",
    "    filter_val='Keller', \n",
    "    filter_operator='like'\n",
    ")"
   ]
  }
 ],
 "metadata": {
  "kernelspec": {
   "display_name": ".venv",
   "language": "python",
   "name": "python3"
  },
  "language_info": {
   "codemirror_mode": {
    "name": "ipython",
    "version": 3
   },
   "file_extension": ".py",
   "mimetype": "text/x-python",
   "name": "python",
   "nbconvert_exporter": "python",
   "pygments_lexer": "ipython3",
   "version": "3.12.6"
  }
 },
 "nbformat": 4,
 "nbformat_minor": 5
}
