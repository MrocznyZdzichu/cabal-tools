{
 "cells": [
  {
   "cell_type": "code",
   "execution_count": null,
   "id": "bbe47a4c",
   "metadata": {},
   "outputs": [],
   "source": [
    "%load_ext autoreload\n",
    "%autoreload 2"
   ]
  },
  {
   "cell_type": "code",
   "execution_count": null,
   "id": "c6eab63c",
   "metadata": {},
   "outputs": [],
   "source": [
    "import CabalTools\n",
    "main = CabalTools.CabalTools(modules=['StellarManager'])"
   ]
  },
  {
   "cell_type": "markdown",
   "id": "d0545bed",
   "metadata": {},
   "source": [
    "### Increase chances for higher colors (blue/purple)"
   ]
  },
  {
   "cell_type": "code",
   "execution_count": null,
   "id": "746117b0",
   "metadata": {},
   "outputs": [],
   "source": [
    "grade_chances = {\n",
    "    (101, 1) : {'chance' : 60}, #Chance for worst grade while cheapest imprint\n",
    "    (101, 2) : {'chance' : 25},\n",
    "    (101, 3) : {'chance' : 10},\n",
    "    (101, 4) : {'chance' : 3},\n",
    "    (101, 5) : {'chance' : 2}, #Chance for the best grade while cheapest imprint\n",
    "    (102, 1) : {'chance' : 40}, \n",
    "    (102, 2) : {'chance' : 30},\n",
    "    (102, 3) : {'chance' : 15},\n",
    "    (102, 4) : {'chance' : 10},\n",
    "    (102, 5) : {'chance' : 5}, \n",
    "    (103, 1) : {'chance' : 40}, \n",
    "    (103, 2) : {'chance' : 25},\n",
    "    (103, 3) : {'chance' : 15},\n",
    "    (103, 4) : {'chance' : 13},\n",
    "    (103, 5) : {'chance' : 7}, \n",
    "    (104, 1) : {'chance' : 25}, \n",
    "    (104, 2) : {'chance' : 25},\n",
    "    (104, 3) : {'chance' : 20},\n",
    "    (104, 4) : {'chance' : 20},\n",
    "    (104, 5) : {'chance' : 10}, \n",
    "    #No cheapest grade with the best imprint\n",
    "    (105, 2) : {'chance' : 30},\n",
    "    (105, 3) : {'chance' : 35},\n",
    "    (105, 4) : {'chance' : 20},\n",
    "    (105, 5) : {'chance' : 15}, \n",
    "}\n",
    "for k, v in grade_chances.items():\n",
    "    main.StellarManager.modify_grade_chances(*k, **v, do_reinit=False, save_files=False)\n",
    "main.StellarManager.normalize_grade_chances()"
   ]
  },
  {
   "cell_type": "code",
   "execution_count": null,
   "id": "535f0b1b",
   "metadata": {},
   "outputs": [],
   "source": [
    "main.StellarManager.reinit()\n",
    "sink = main.StellarManager.preview(section_name='Stellar_Grade')"
   ]
  },
  {
   "cell_type": "markdown",
   "id": "b5dcf686",
   "metadata": {},
   "source": [
    "### Deleting the useless imprint options to improve general stats"
   ]
  },
  {
   "cell_type": "code",
   "execution_count": null,
   "id": "28480e7c",
   "metadata": {},
   "outputs": [],
   "source": [
    "V_to_drop = [\n",
    "    904, 905, 909, 910, 911,    #first line\n",
    "    916, 917, 921, 922, 923,\n",
    "    928, 929, 933, 934, 935,\n",
    "    940, 941, 945, 946, 947,\n",
    "    952, 953, 957, 958, 959,\n",
    "    964, 965, 969,              #second line\n",
    "    976, 977, 981,\n",
    "    988, 989, 993,\n",
    "    1000, 1001, 1005,\n",
    "    1012, 1013, 1017,\n",
    "    1024, 1025, 1029,           #3rd line\n",
    "    1036, 1037, 1041,\n",
    "    1048, 1049, 1053,\n",
    "    1060, 1061, 1065,\n",
    "    1072, 1073, 1077,\n",
    "    1084, 1085, 1089,           #4th line\n",
    "    1096, 1097, 1101,           \n",
    "    1108, 1109, 1113,\n",
    "    1120, 1121, 1125,\n",
    "    1132, 1133, 1137,\n",
    "    1144, 1145, 1149,           #5th line\n",
    "    1156, 1157, 1161,\n",
    "    1168, 1169, 1173,           \n",
    "    1180, 1181, 1185,\n",
    "    1192, 1193, 1197\n",
    "]\n",
    "for v in V_to_drop:\n",
    "    main.StellarManager.truncate_force_value(v, do_reinit=False, save_files=False)"
   ]
  },
  {
   "cell_type": "code",
   "execution_count": null,
   "id": "802cd69c",
   "metadata": {},
   "outputs": [],
   "source": [
    "main.StellarManager.reinit()\n",
    "sink = main.StellarManager.preview(section_name=['Stellar_Forcecode', 'Stellar_Value'])"
   ]
  },
  {
   "cell_type": "markdown",
   "id": "2afb0ddd",
   "metadata": {},
   "source": [
    "### Make only the best stat grade available to reduce RNG dependency"
   ]
  },
  {
   "cell_type": "code",
   "execution_count": null,
   "id": "1fc2899c",
   "metadata": {},
   "outputs": [],
   "source": [
    "for grade in (1, 2, 3, 4):\n",
    "    for V_id in [int(x[0]) for x in list(sink[['V_Id']].values)]:\n",
    "        main.StellarManager.remove_value_grade(V_id, grade, do_reinit=False, save_files=False)"
   ]
  },
  {
   "cell_type": "code",
   "execution_count": null,
   "id": "a2c71efd",
   "metadata": {},
   "outputs": [],
   "source": [
    "main.StellarManager.reinit()\n",
    "sink = main.StellarManager.preview(section_name=['Stellar_Value'])"
   ]
  },
  {
   "cell_type": "markdown",
   "id": "fdb3650d",
   "metadata": {},
   "source": [
    "### Set uniform chance for each ForceCode"
   ]
  },
  {
   "cell_type": "code",
   "execution_count": null,
   "id": "cb1b6cbf",
   "metadata": {},
   "outputs": [],
   "source": [
    "Value_list = main.StellarManager.preview(section_name='Stellar_Forcecode', columns='Value', suppress=True)\n",
    "Value_list = [int(x) for x in Value_list['Value'].values]\n",
    "for val in Value_list:\n",
    "    main.StellarManager.set_stat_percentage(val, 1)\n",
    "main.StellarManager.normalize_stat_chances()"
   ]
  },
  {
   "cell_type": "code",
   "execution_count": null,
   "id": "25fc05e4",
   "metadata": {},
   "outputs": [],
   "source": [
    "main.StellarManager.reinit()\n",
    "sink = main.StellarManager.preview(section_name=['Stellar_Forcecode'])"
   ]
  },
  {
   "cell_type": "markdown",
   "id": "b6d6673e",
   "metadata": {},
   "source": [
    "### Improve the imprint stats bonuses' values"
   ]
  },
  {
   "cell_type": "code",
   "execution_count": null,
   "id": "9001cb7b",
   "metadata": {},
   "outputs": [],
   "source": [
    "import pandas as pd\n",
    "\n",
    "stat_grade_chances = main.StellarManager.preview(section_name=['Stellar_Value'], filter_key='V_Per', filter_val=0, filter_operator='>', suppress=True)\n",
    "stat_chances = main.StellarManager.preview(section_name=['Stellar_Forcecode'], suppress=True)\n",
    "\n",
    "current_config = pd.merge(\n",
    "    stat_grade_chances, \n",
    "    stat_chances, \n",
    "    how='left', \n",
    "    left_on='V_Id', \n",
    "    right_on='Value')[['V_Id', 'Force_Code', 'Force_Code_Name', 'Value_x']].to_dict(orient='records')\n",
    "\n",
    "stat_value_dict = {\n",
    "    'Normal Attack DMG UP'      : 10,\n",
    "    'All Attack UP'             : 60,\n",
    "    'Cancel Ignore Penetration' : 30,\n",
    "    'STR'                       : 30,\n",
    "    'PVE Ignore Penetration'    : 50,\n",
    "    'Defense'                   : 50,\n",
    "    'Penetration'               : 20,\n",
    "    'INT'                       : 30,\n",
    "    'HP'                        : 30,\n",
    "    'PVE Penetration'           : 25,\n",
    "    'DEX'                       : 30,\n",
    "    'Critical DMG.'             : 10,\n",
    "    'PVE Defense'               : 50,\n",
    "    'PVE Critical DMG'          : 10,\n",
    "    'PVE DMG Reduction'         : 50\n",
    "}\n",
    "\n",
    "for record in current_config:\n",
    "    new_config = {'V_Id' : record['V_Id'], 'V_Order' : 5, 'new_value' : stat_value_dict.get(record['Force_Code_Name'])}\n",
    "    main.StellarManager.set_stat_value(**new_config, do_reinit=False, save_files=False)\n"
   ]
  },
  {
   "cell_type": "code",
   "execution_count": null,
   "id": "0817f19d",
   "metadata": {},
   "outputs": [],
   "source": [
    "main.StellarManager.reinit()\n",
    "sink = main.StellarManager.preview(section_name=['Stellar_Value'], filter_key='V_Per', filter_val=0, filter_operator='>')"
   ]
  },
  {
   "cell_type": "code",
   "execution_count": null,
   "id": "6996eef4",
   "metadata": {},
   "outputs": [],
   "source": [
    "main.backup('stellar')\n",
    "main.StellarManager.save()"
   ]
  }
 ],
 "metadata": {
  "kernelspec": {
   "display_name": ".venv",
   "language": "python",
   "name": "python3"
  },
  "language_info": {
   "codemirror_mode": {
    "name": "ipython",
    "version": 3
   },
   "file_extension": ".py",
   "mimetype": "text/x-python",
   "name": "python",
   "nbconvert_exporter": "python",
   "pygments_lexer": "ipython3",
   "version": "3.12.6"
  }
 },
 "nbformat": 4,
 "nbformat_minor": 5
}
