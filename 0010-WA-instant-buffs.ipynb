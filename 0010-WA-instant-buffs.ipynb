{
 "cells": [
  {
   "cell_type": "code",
   "execution_count": null,
   "id": "16cf72f1",
   "metadata": {},
   "outputs": [],
   "source": [
    "%load_ext autoreload\n",
    "%autoreload 2"
   ]
  },
  {
   "cell_type": "code",
   "execution_count": null,
   "id": "8dde7df3",
   "metadata": {},
   "outputs": [],
   "source": [
    "from CabalTools import CabalTools\n",
    "\n",
    "main = CabalTools()"
   ]
  },
  {
   "cell_type": "code",
   "execution_count": null,
   "id": "89408e5c",
   "metadata": {},
   "outputs": [],
   "source": [
    "main.backup('skills')"
   ]
  },
  {
   "cell_type": "code",
   "execution_count": null,
   "id": "d47de34d",
   "metadata": {},
   "outputs": [],
   "source": [
    "names = ['Art of Shout', 'Panic Cry', 'Morale Shout']\n",
    "for skill_name in names:\n",
    "    main.SkillManager.instant_cast(skill_name, new_value=1, save_files=True, do_reinit=True)"
   ]
  }
 ],
 "metadata": {
  "kernelspec": {
   "display_name": ".venv",
   "language": "python",
   "name": "python3"
  },
  "language_info": {
   "codemirror_mode": {
    "name": "ipython",
    "version": 3
   },
   "file_extension": ".py",
   "mimetype": "text/x-python",
   "name": "python",
   "nbconvert_exporter": "python",
   "pygments_lexer": "ipython3",
   "version": "3.12.6"
  }
 },
 "nbformat": 4,
 "nbformat_minor": 5
}
